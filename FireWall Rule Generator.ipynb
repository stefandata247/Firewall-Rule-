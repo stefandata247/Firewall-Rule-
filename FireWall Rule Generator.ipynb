{
 "cells": [
  {
   "cell_type": "code",
   "execution_count": 3,
   "id": "8419ceeb",
   "metadata": {},
   "outputs": [
    {
     "name": "stdout",
     "output_type": "stream",
     "text": [
      "Enter the source IP (in CIDR notation): 192.168.0.10/32\n",
      "Enter the destination IP (in CIDR notation): 0.0.0.0/0\n",
      "Enter the port: 80\n",
      "Enter the action (ACCEPT or DROP): ACCEPT\n",
      "Generated Firewall Rule: iptables -A INPUT -s 192.168.0.10/32 -d 0.0.0.0/0 -p tcp --dport 80 -j ACCEPT\n"
     ]
    }
   ],
   "source": [
    "import ipaddress\n",
    "import sys\n",
    "import platform\n",
    "\n",
    "def generate_firewall_rule(source_ip, destination_ip, port, action):\n",
    "    # Validate source IP\n",
    "    try:\n",
    "        source_ip = ipaddress.ip_network(source_ip)\n",
    "    except ValueError:\n",
    "        return None\n",
    "\n",
    "    # Validate destination IP\n",
    "    try:\n",
    "        destination_ip = ipaddress.ip_network(destination_ip)\n",
    "    except ValueError:\n",
    "        return None\n",
    "\n",
    "    # Generate firewall rule syntax based on the platform\n",
    "    if platform.system() == 'Windows':\n",
    "        rule = f\"netsh advfirewall firewall add rule name=\\\"Custom Rule\\\" dir=in action={action} localport={port} protocol=TCP remoteip={source_ip}\"\n",
    "    else:\n",
    "        rule = f\"iptables -A INPUT -s {source_ip} -d {destination_ip} -p tcp --dport {port} -j {action}\"\n",
    "\n",
    "    return rule\n",
    "\n",
    "# Example usage\n",
    "source_ip = input(\"Enter the source IP (in CIDR notation): \")\n",
    "destination_ip = input(\"Enter the destination IP (in CIDR notation): \")\n",
    "port = input(\"Enter the port: \")\n",
    "action = input(\"Enter the action (ACCEPT or DROP): \")\n",
    "\n",
    "firewall_rule = generate_firewall_rule(source_ip, destination_ip, port, action)\n",
    "if firewall_rule:\n",
    "    print(f\"Generated Firewall Rule: {firewall_rule}\")\n",
    "else:\n",
    "    print(\"Invalid input. Please check the provided IP addresses.\")"
   ]
  },
  {
   "cell_type": "code",
   "execution_count": 4,
   "id": "61f7fc86",
   "metadata": {},
   "outputs": [
    {
     "name": "stdout",
     "output_type": "stream",
     "text": [
      "Enter the source IP (in CIDR notation): 10.0.0.5/32\n",
      "Enter the destination IP (in CIDR notation): 0.0.0.0/0\n",
      "Enter the port: 0\n",
      "Enter the action (ACCEPT or DROP): DROP\n",
      "Generated Firewall Rule: iptables -A INPUT -s 10.0.0.5/32 -d 0.0.0.0/0 -p tcp --dport 0 -j DROP\n"
     ]
    }
   ],
   "source": [
    "import ipaddress\n",
    "import sys\n",
    "import platform\n",
    "\n",
    "def generate_firewall_rule(source_ip, destination_ip, port, action):\n",
    "    # Validate source IP\n",
    "    try:\n",
    "        source_ip = ipaddress.ip_network(source_ip)\n",
    "    except ValueError:\n",
    "        return None\n",
    "\n",
    "    # Validate destination IP\n",
    "    try:\n",
    "        destination_ip = ipaddress.ip_network(destination_ip)\n",
    "    except ValueError:\n",
    "        return None\n",
    "\n",
    "    # Generate firewall rule syntax based on the platform\n",
    "    if platform.system() == 'Windows':\n",
    "        rule = f\"netsh advfirewall firewall add rule name=\\\"Custom Rule\\\" dir=in action={action} localport={port} protocol=TCP remoteip={source_ip}\"\n",
    "    else:\n",
    "        rule = f\"iptables -A INPUT -s {source_ip} -d {destination_ip} -p tcp --dport {port} -j {action}\"\n",
    "\n",
    "    return rule\n",
    "\n",
    "# Example usage\n",
    "source_ip = input(\"Enter the source IP (in CIDR notation): \")\n",
    "destination_ip = input(\"Enter the destination IP (in CIDR notation): \")\n",
    "port = input(\"Enter the port: \")\n",
    "action = input(\"Enter the action (ACCEPT or DROP): \")\n",
    "\n",
    "firewall_rule = generate_firewall_rule(source_ip, destination_ip, port, action)\n",
    "if firewall_rule:\n",
    "    print(f\"Generated Firewall Rule: {firewall_rule}\")\n",
    "else:\n",
    "    print(\"Invalid input. Please check the provided IP addresses.\")"
   ]
  },
  {
   "cell_type": "code",
   "execution_count": null,
   "id": "10c3cfa5",
   "metadata": {},
   "outputs": [],
   "source": []
  },
  {
   "cell_type": "code",
   "execution_count": null,
   "id": "6d452a4c",
   "metadata": {},
   "outputs": [],
   "source": []
  }
 ],
 "metadata": {
  "kernelspec": {
   "display_name": "Python 3 (ipykernel)",
   "language": "python",
   "name": "python3"
  },
  "language_info": {
   "codemirror_mode": {
    "name": "ipython",
    "version": 3
   },
   "file_extension": ".py",
   "mimetype": "text/x-python",
   "name": "python",
   "nbconvert_exporter": "python",
   "pygments_lexer": "ipython3",
   "version": "3.11.5"
  }
 },
 "nbformat": 4,
 "nbformat_minor": 5
}
